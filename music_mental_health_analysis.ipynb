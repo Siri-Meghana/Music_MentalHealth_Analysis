{
 "cells": [
  {
   "cell_type": "markdown",
   "id": "6043d243-c385-4bde-b09f-e605e274b9c2",
   "metadata": {},
   "source": [
    "# Music_Mental_Health _Analysis"
   ]
  },
  {
   "cell_type": "markdown",
   "id": "023026cf-4bd8-40be-9c2d-4e55f841a4a9",
   "metadata": {},
   "source": [
    "## Step 1: Import necessary libraries"
   ]
  },
  {
   "cell_type": "code",
   "execution_count": 2,
   "id": "8504c346-dbc6-447a-b590-30a6d867d84a",
   "metadata": {},
   "outputs": [
    {
     "name": "stdout",
     "output_type": "stream",
     "text": [
      "Defaulting to user installation because normal site-packages is not writeable\n",
      "Collecting seaborn\n",
      "  Downloading seaborn-0.13.2-py3-none-any.whl.metadata (5.4 kB)\n",
      "Requirement already satisfied: numpy!=1.24.0,>=1.20 in /opt/sw/spack/apps/linux-rhel8-x86_64_v2/gcc-10.3.0/python-3.9.9-jh/lib/python3.9/site-packages (from seaborn) (1.22.3)\n",
      "Requirement already satisfied: pandas>=1.2 in /opt/sw/spack/apps/linux-rhel8-x86_64_v2/gcc-10.3.0/python-3.9.9-jh/lib/python3.9/site-packages (from seaborn) (1.3.5)\n",
      "Requirement already satisfied: matplotlib!=3.6.1,>=3.4 in /opt/sw/spack/apps/linux-rhel8-x86_64_v2/gcc-10.3.0/python-3.9.9-jh/lib/python3.9/site-packages (from seaborn) (3.5.1)\n",
      "Requirement already satisfied: cycler>=0.10 in /opt/sw/spack/apps/linux-rhel8-x86_64_v2/gcc-10.3.0/python-3.9.9-jh/lib/python3.9/site-packages (from matplotlib!=3.6.1,>=3.4->seaborn) (0.11.0)\n",
      "Requirement already satisfied: fonttools>=4.22.0 in /opt/sw/spack/apps/linux-rhel8-x86_64_v2/gcc-10.3.0/python-3.9.9-jh/lib/python3.9/site-packages (from matplotlib!=3.6.1,>=3.4->seaborn) (4.31.2)\n",
      "Requirement already satisfied: kiwisolver>=1.0.1 in /opt/sw/spack/apps/linux-rhel8-x86_64_v2/gcc-10.3.0/python-3.9.9-jh/lib/python3.9/site-packages (from matplotlib!=3.6.1,>=3.4->seaborn) (1.4.0)\n",
      "Requirement already satisfied: packaging>=20.0 in /opt/sw/spack/apps/linux-rhel8-x86_64_v2/gcc-10.3.0/python-3.9.9-jh/lib/python3.9/site-packages (from matplotlib!=3.6.1,>=3.4->seaborn) (21.3)\n",
      "Requirement already satisfied: pillow>=6.2.0 in /opt/sw/spack/apps/linux-rhel8-x86_64_v2/gcc-10.3.0/python-3.9.9-jh/lib/python3.9/site-packages (from matplotlib!=3.6.1,>=3.4->seaborn) (9.0.0)\n",
      "Requirement already satisfied: pyparsing>=2.2.1 in /opt/sw/spack/apps/linux-rhel8-x86_64_v2/gcc-10.3.0/python-3.9.9-jh/lib/python3.9/site-packages (from matplotlib!=3.6.1,>=3.4->seaborn) (3.0.7)\n",
      "Requirement already satisfied: python-dateutil>=2.7 in /opt/sw/spack/apps/linux-rhel8-x86_64_v2/gcc-10.3.0/python-3.9.9-jh/lib/python3.9/site-packages (from matplotlib!=3.6.1,>=3.4->seaborn) (2.8.1)\n",
      "Requirement already satisfied: pytz>=2017.3 in /opt/sw/spack/apps/linux-rhel8-x86_64_v2/gcc-10.3.0/python-3.9.9-jh/lib/python3.9/site-packages (from pandas>=1.2->seaborn) (2019.3)\n",
      "Requirement already satisfied: six>=1.5 in /opt/sw/spack/apps/linux-rhel8-x86_64_v2/gcc-10.3.0/python-3.9.9-jh/lib/python3.9/site-packages (from python-dateutil>=2.7->matplotlib!=3.6.1,>=3.4->seaborn) (1.16.0)\n",
      "Downloading seaborn-0.13.2-py3-none-any.whl (294 kB)\n",
      "Installing collected packages: seaborn\n",
      "Successfully installed seaborn-0.13.2\n",
      "Note: you may need to restart the kernel to use updated packages.\n"
     ]
    }
   ],
   "source": [
    "pip install seaborn\n"
   ]
  },
  {
   "cell_type": "code",
   "execution_count": 1,
   "id": "12678fcd-6cf4-4f69-819f-8d220bcd88fb",
   "metadata": {},
   "outputs": [],
   "source": [
    "import pandas as pd\n",
    "import numpy as np\n",
    "import matplotlib.pyplot as plt\n",
    "import seaborn as sns"
   ]
  },
  {
   "cell_type": "markdown",
   "id": "4ee0eaec-b4fe-46db-9f28-bcc14370e22b",
   "metadata": {},
   "source": [
    "## Step 2: Load the dataset\n"
   ]
  },
  {
   "cell_type": "code",
   "execution_count": 2,
   "id": "f03ad199-29b6-4c19-9104-d8a958052918",
   "metadata": {},
   "outputs": [],
   "source": [
    "df = pd.read_csv('mxmh_survey_results.csv')"
   ]
  },
  {
   "cell_type": "markdown",
   "id": "aa7a124e-4957-4279-adb4-37998389b5e1",
   "metadata": {},
   "source": [
    "## Step 3: Explore the dataset"
   ]
  },
  {
   "cell_type": "code",
   "execution_count": 3,
   "id": "924b319b-7b44-4038-84a1-6aca6afd190a",
   "metadata": {},
   "outputs": [
    {
     "name": "stdout",
     "output_type": "stream",
     "text": [
      "First 5 rows of the dataset:\n",
      "            Timestamp   Age Primary streaming service  Hours per day  \\\n",
      "0  8/27/2022 19:29:02  18.0                   Spotify            3.0   \n",
      "1  8/27/2022 19:57:31  63.0                   Pandora            1.5   \n",
      "2  8/27/2022 21:28:18  18.0                   Spotify            4.0   \n",
      "3  8/27/2022 21:40:40  61.0             YouTube Music            2.5   \n",
      "4  8/27/2022 21:54:47  18.0                   Spotify            4.0   \n",
      "\n",
      "  While working Instrumentalist Composer         Fav genre Exploratory  \\\n",
      "0           Yes             Yes      Yes             Latin         Yes   \n",
      "1           Yes              No       No              Rock         Yes   \n",
      "2            No              No       No  Video game music          No   \n",
      "3           Yes              No      Yes              Jazz         Yes   \n",
      "4           Yes              No       No               R&B         Yes   \n",
      "\n",
      "  Foreign languages  ...  Frequency [R&B]  Frequency [Rap] Frequency [Rock]  \\\n",
      "0               Yes  ...        Sometimes  Very frequently            Never   \n",
      "1                No  ...        Sometimes           Rarely  Very frequently   \n",
      "2               Yes  ...            Never           Rarely           Rarely   \n",
      "3               Yes  ...        Sometimes            Never            Never   \n",
      "4                No  ...  Very frequently  Very frequently            Never   \n",
      "\n",
      "  Frequency [Video game music] Anxiety Depression Insomnia  OCD Music effects  \\\n",
      "0                    Sometimes     3.0        0.0      1.0  0.0           NaN   \n",
      "1                       Rarely     7.0        2.0      2.0  1.0           NaN   \n",
      "2              Very frequently     7.0        7.0     10.0  2.0     No effect   \n",
      "3                        Never     9.0        7.0      3.0  3.0       Improve   \n",
      "4                       Rarely     7.0        2.0      5.0  9.0       Improve   \n",
      "\n",
      "     Permissions  \n",
      "0  I understand.  \n",
      "1  I understand.  \n",
      "2  I understand.  \n",
      "3  I understand.  \n",
      "4  I understand.  \n",
      "\n",
      "[5 rows x 33 columns]\n",
      "\n",
      "Dataset info:\n",
      "<class 'pandas.core.frame.DataFrame'>\n",
      "RangeIndex: 736 entries, 0 to 735\n",
      "Data columns (total 33 columns):\n",
      " #   Column                        Non-Null Count  Dtype  \n",
      "---  ------                        --------------  -----  \n",
      " 0   Timestamp                     736 non-null    object \n",
      " 1   Age                           735 non-null    float64\n",
      " 2   Primary streaming service     735 non-null    object \n",
      " 3   Hours per day                 736 non-null    float64\n",
      " 4   While working                 733 non-null    object \n",
      " 5   Instrumentalist               732 non-null    object \n",
      " 6   Composer                      735 non-null    object \n",
      " 7   Fav genre                     736 non-null    object \n",
      " 8   Exploratory                   736 non-null    object \n",
      " 9   Foreign languages             732 non-null    object \n",
      " 10  BPM                           629 non-null    float64\n",
      " 11  Frequency [Classical]         736 non-null    object \n",
      " 12  Frequency [Country]           736 non-null    object \n",
      " 13  Frequency [EDM]               736 non-null    object \n",
      " 14  Frequency [Folk]              736 non-null    object \n",
      " 15  Frequency [Gospel]            736 non-null    object \n",
      " 16  Frequency [Hip hop]           736 non-null    object \n",
      " 17  Frequency [Jazz]              736 non-null    object \n",
      " 18  Frequency [K pop]             736 non-null    object \n",
      " 19  Frequency [Latin]             736 non-null    object \n",
      " 20  Frequency [Lofi]              736 non-null    object \n",
      " 21  Frequency [Metal]             736 non-null    object \n",
      " 22  Frequency [Pop]               736 non-null    object \n",
      " 23  Frequency [R&B]               736 non-null    object \n",
      " 24  Frequency [Rap]               736 non-null    object \n",
      " 25  Frequency [Rock]              736 non-null    object \n",
      " 26  Frequency [Video game music]  736 non-null    object \n",
      " 27  Anxiety                       736 non-null    float64\n",
      " 28  Depression                    736 non-null    float64\n",
      " 29  Insomnia                      736 non-null    float64\n",
      " 30  OCD                           736 non-null    float64\n",
      " 31  Music effects                 728 non-null    object \n",
      " 32  Permissions                   736 non-null    object \n",
      "dtypes: float64(7), object(26)\n",
      "memory usage: 189.9+ KB\n",
      "None\n"
     ]
    }
   ],
   "source": [
    "print(\"First 5 rows of the dataset:\")\n",
    "print(df.head())\n",
    "\n",
    "print(\"\\nDataset info:\")\n",
    "print(df.info())"
   ]
  },
  {
   "cell_type": "markdown",
   "id": "fc010cbd-c1c4-4a86-b696-0dbb72a45be4",
   "metadata": {},
   "source": [
    "\n",
    "## Step 4: Clean column names"
   ]
  },
  {
   "cell_type": "code",
   "execution_count": 4,
   "id": "d01ac83b-ffbb-4eac-9b6b-d137388b2e20",
   "metadata": {},
   "outputs": [
    {
     "name": "stdout",
     "output_type": "stream",
     "text": [
      "Rows before cleaning: 736\n",
      "Rows after cleaning: 736\n"
     ]
    }
   ],
   "source": [
    "# Before cleaning: print total number of rows\n",
    "print(\"Rows before cleaning:\", len(df))\n",
    "\n",
    "# Drop rows with missing values in key columns\n",
    "df.columns = df.columns.str.strip().str.lower().str.replace(' ', '_')\n",
    "\n",
    "# After cleaning: print total number of rows\n",
    "print(\"Rows after cleaning:\", len(df))"
   ]
  },
  {
   "cell_type": "markdown",
   "id": "c91855d1-6932-4697-891e-384c2ba365b8",
   "metadata": {},
   "source": [
    "## Step 5: Handle missing values"
   ]
  },
  {
   "cell_type": "code",
   "execution_count": 5,
   "id": "c501f014-bbf9-4192-b71f-a2e11a07e75d",
   "metadata": {},
   "outputs": [],
   "source": [
    "df = df.dropna(subset=['primary_streaming_service', 'fav_genre', 'anxiety', 'depression'])"
   ]
  },
  {
   "cell_type": "markdown",
   "id": "e40ca45e-226e-4698-9dfe-eb85c80a9f29",
   "metadata": {},
   "source": [
    "## Step 6: Check value counts"
   ]
  },
  {
   "cell_type": "code",
   "execution_count": 6,
   "id": "636c4e84-d05c-482e-8afa-83a5f44e97c2",
   "metadata": {},
   "outputs": [
    {
     "name": "stdout",
     "output_type": "stream",
     "text": [
      "\n",
      "Top 5 genres by count:\n",
      "Rock                188\n",
      "Pop                 114\n",
      "Metal                88\n",
      "Classical            53\n",
      "Video game music     44\n",
      "Name: fav_genre, dtype: int64\n",
      "\n",
      "Anxiety score distribution:\n",
      "0.0      35\n",
      "1.0      29\n",
      "2.0      44\n",
      "3.0      69\n",
      "4.0      56\n",
      "5.0      59\n",
      "6.0      83\n",
      "7.0     122\n",
      "7.5       1\n",
      "8.0     115\n",
      "9.0      55\n",
      "10.0     67\n",
      "Name: anxiety, dtype: int64\n"
     ]
    }
   ],
   "source": [
    "print(\"\\nTop 5 genres by count:\")\n",
    "print(df['fav_genre'].value_counts().head())\n",
    "\n",
    "print(\"\\nAnxiety score distribution:\")\n",
    "print(df['anxiety'].value_counts().sort_index())"
   ]
  },
  {
   "cell_type": "markdown",
   "id": "052cc12b-abec-4e90-83af-23254982a68f",
   "metadata": {},
   "source": [
    "## Step 7: Group by genre to find average anxiety level"
   ]
  },
  {
   "cell_type": "code",
   "execution_count": 7,
   "id": "b6224efd-4215-46e2-a59a-a4f266c7b79a",
   "metadata": {},
   "outputs": [],
   "source": [
    " genre_anxiety = df.groupby('fav_genre')['anxiety'].mean().sort_values()"
   ]
  },
  {
   "cell_type": "code",
   "execution_count": null,
   "id": "a600163b-160a-41f1-8e00-01b91d38e26d",
   "metadata": {},
   "outputs": [],
   "source": []
  },
  {
   "cell_type": "markdown",
   "id": "d65cad9b-7a17-4735-a0d1-a293ba1e59a8",
   "metadata": {},
   "source": [
    "## Step 8: Visualize the result"
   ]
  },
  {
   "cell_type": "code",
   "execution_count": 8,
   "id": "ee16dfc3-c37d-4efb-993d-f22b9ce2f81e",
   "metadata": {},
   "outputs": [
    {
     "name": "stderr",
     "output_type": "stream",
     "text": [
      "/tmp/ipykernel_283015/4170652683.py:2: FutureWarning: \n",
      "\n",
      "Passing `palette` without assigning `hue` is deprecated and will be removed in v0.14.0. Assign the `y` variable to `hue` and set `legend=False` for the same effect.\n",
      "\n",
      "  sns.barplot(x=genre_anxiety.values, y=genre_anxiety.index, palette='coolwarm')\n"
     ]
    },
    {
     "data": {
      "image/png": "[encoded data removed]",
      "text/plain": [
       "<Figure size 720x432 with 1 Axes>"
      ]
     },
     "metadata": {
      "needs_background": "light"
     },
     "output_type": "display_data"
    }
   ],
   "source": [
    "plt.figure(figsize=(10,6))\n",
    "sns.barplot(x=genre_anxiety.values, y=genre_anxiety.index, palette='coolwarm')\n",
    "plt.title(\"Average Anxiety Score by Music Genre\")\n",
    "plt.xlabel(\"Average Anxiety Level (0 = No anxiety, 10 = High anxiety)\")\n",
    "plt.ylabel(\"Music Genre\")\n",
    "plt.tight_layout()\n",
    "plt.show()"
   ]
  },
  {
   "cell_type": "markdown",
   "id": "90df3075-4ac5-4ddb-b301-ea40c3cd473e",
   "metadata": {},
   "source": [
    "## Step 9: Group by genre and calculate average depression score"
   ]
  },
  {
   "cell_type": "code",
   "execution_count": 9,
   "id": "0e457168-ea26-4f32-a83a-fc8a27b3a802",
   "metadata": {},
   "outputs": [],
   "source": [
    "# Group by genre and calculate average depression score\n",
    "genre_depression = df.groupby('fav_genre')['depression'].mean().sort_values()\n"
   ]
  },
  {
   "cell_type": "markdown",
   "id": "eaf6327b-3a3c-49cc-bede-34fe57d1678d",
   "metadata": {},
   "source": [
    "## Step 10: Visualize the results"
   ]
  },
  {
   "cell_type": "code",
   "execution_count": 10,
   "id": "9e4b75b0-ac25-4f92-a2b1-7ae76242b202",
   "metadata": {},
   "outputs": [
    {
     "data": {
      "image/png": "[encoded data removed]",
      "text/plain": [
       "<Figure size 720x432 with 1 Axes>"
      ]
     },
     "metadata": {
      "needs_background": "light"
     },
     "output_type": "display_data"
    }
   ],
   "source": [
    "# Plot: Average depression score by genre\n",
    "plt.figure(figsize=(10,6))\n",
    "sns.barplot(\n",
    "    x=genre_depression.values,\n",
    "    y=genre_depression.index,\n",
    "    hue=genre_depression.index,\n",
    "    palette='mako',  # You can try 'coolwarm', 'rocket', 'cubehelix', etc.\n",
    "    dodge=False\n",
    ")\n",
    "plt.legend([],[], frameon=False)  # Hide legend\n",
    "plt.title(\"Average Depression Score by Music Genre\")\n",
    "plt.xlabel(\"Average Depression Level (0 = No depression, 10 = High depression)\")\n",
    "plt.ylabel(\"Music Genre\")\n",
    "plt.tight_layout()\n",
    "plt.show()\n"
   ]
  }
 ],
 "metadata": {
  "kernelspec": {
   "display_name": "Python 3 (ipykernel)",
   "language": "python",
   "name": "python3"
  },
  "language_info": {
   "codemirror_mode": {
    "name": "ipython",
    "version": 3
   },
   "file_extension": ".py",
   "mimetype": "text/x-python",
   "name": "python",
   "nbconvert_exporter": "python",
   "pygments_lexer": "ipython3",
   "version": "3.9.9"
  }
 },
 "nbformat": 4,
 "nbformat_minor": 5
}
